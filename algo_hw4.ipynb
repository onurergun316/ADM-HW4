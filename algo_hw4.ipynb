{
 "cells": [
  {
   "cell_type": "markdown",
   "metadata": {},
   "source": [
    "# 3. Algorithmic questions\n",
    "You are given a list of integers, A, and another integer s. Write an algorithm that outputs all the pairs in A that equal x.\n",
    "\n",
    "For example, if\n",
    "\n",
    "A = [7, -2, 8, 2, 6, 4, -7, 2, 1, 3, -3] and s = 4\n",
    "the algorithm should output: (7, -3), (-2, 6), (2, 2), (3, 1)."
   ]
  },
  {
   "cell_type": "markdown",
   "metadata": {},
   "source": [
    "# ----SOLUTION------1\n",
    "Using two loops and checking A[i] + A[j] == s for each pair (i, j) in the list A[]. If there exists a pair with sum equals to s then we add them to the list Pairs. By end of both loops, If we didn’t find such a pair then we get an empty list.\n",
    "The total no. of comparison in the worst case = Total no. of possible pairs $= nC2 = n(n-1)/2 = O(n²)$\n",
    "Time Complexity $= O(n²)$ and Space Complexity $= O(1)$."
   ]
  },
  {
   "cell_type": "code",
   "execution_count": 13,
   "metadata": {},
   "outputs": [],
   "source": [
    "def BruteFun(A, s):\n",
    "    Pairs = []\n",
    "    for i in range(len(A)-1):\n",
    "        for j in range(i+1, len(A)):\n",
    "            if A[i] + A[j] == s:\n",
    "                Pairs.append((A[i], A[j]))\n",
    "    \n",
    "   \n",
    "    if len(Pairs) == 1 :\n",
    "        print (\"Pair that sums up to \",s,\" is: \", Pairs) #when there is only one pair found.\n",
    "    elif len(Pairs) > 1: \n",
    "        print (\"Pairs those sum up to \",s,\" are: \", Pairs) #when there are more than one pair.\n",
    "    else:\n",
    "        print('Nothing was found!') #in case no pair was found.\n"
   ]
  },
  {
   "cell_type": "code",
   "execution_count": 14,
   "metadata": {},
   "outputs": [
    {
     "name": "stdout",
     "output_type": "stream",
     "text": [
      "Pairs those sum up to  4  are:  [(7, -3), (-2, 6), (2, 2), (1, 3)]\n"
     ]
    }
   ],
   "source": [
    "A = [7, -2, 8, 2, 6, 4, -7, 2, 1, 3, -3]\n",
    "s = 4\n",
    "BruteFun(A, s)"
   ]
  },
  {
   "cell_type": "code",
   "execution_count": 15,
   "metadata": {},
   "outputs": [
    {
     "name": "stdout",
     "output_type": "stream",
     "text": [
      "Pair that sums up to  14  is:  [(8, 6)]\n"
     ]
    }
   ],
   "source": [
    "A = [7, -2, 8, 2, 6, 4, -7, 2, 1, 3, -3]\n",
    "s = 14\n",
    "BruteFun(A, s)"
   ]
  },
  {
   "cell_type": "code",
   "execution_count": 16,
   "metadata": {},
   "outputs": [
    {
     "name": "stdout",
     "output_type": "stream",
     "text": [
      "Nothing was found!\n"
     ]
    }
   ],
   "source": [
    "A = [7, -2, 8, 2, 6, 4, -7, 2, 1, 3, -3]\n",
    "s = 100\n",
    "BruteFun(A, s)"
   ]
  },
  {
   "cell_type": "code",
   "execution_count": 17,
   "metadata": {},
   "outputs": [
    {
     "name": "stdout",
     "output_type": "stream",
     "text": [
      "Pairs those sum up to  11  are:  [(9, 2), (1, 10)]\n"
     ]
    }
   ],
   "source": [
    "A = [9, -2, 3, 2, -7, 4, 1, 10, -3]\n",
    "s = 11\n",
    "BruteFun(A, s)\n"
   ]
  },
  {
   "cell_type": "markdown",
   "metadata": {},
   "source": [
    "\n"
   ]
  },
  {
   "cell_type": "markdown",
   "metadata": {},
   "source": [
    "# ----SOLUTION------2\n",
    "Another idea can be avoiding the 2 for loops for having an efficient algorithm.\n",
    "We can sort our given array. Then we start our search: if the sum of the extreme pointers of the list is equal to target, we print the numbers. Then using the ordered array we increse/decrease one of the pointer depending if we stay higher or lower than the target. The time complexity of the algorithm is $\\mathcal{O}(n\\log(n))$ in the worst case.\n"
   ]
  },
  {
   "cell_type": "code",
   "execution_count": 18,
   "metadata": {},
   "outputs": [],
   "source": [
    "def BinaryFun(X,y):\n",
    "    X.sort()\n",
    "    lista = []\n",
    "    startingPoint = 0\n",
    "    endingPoint = len(X)-1\n",
    "    while ( startingPoint < endingPoint ):\n",
    "        if (X[startingPoint] + X[endingPoint] == y):\n",
    "            lista.append( (x[startingPoint],x[endingPoint]) )\n",
    "        if (X[startingPoint] + X[endingPoint] < y):\n",
    "            startingPoint = startingPoint + 1\n",
    "        else:\n",
    "            endingPoint = endingPoint - 1 \n",
    "    if len(lista) == 1 :\n",
    "        print (\"Pair that sums up to \",y,\" is: \", lista) #when there is only one pair found.\n",
    "    elif len(lista) > 1: \n",
    "        print (\"Pairs those sum up to \",y,\" are: \", lista) #when there are more than one pair.\n",
    "    else:\n",
    "        print('Nothing was found!') #in case no pair was found.\n"
   ]
  },
  {
   "cell_type": "code",
   "execution_count": 19,
   "metadata": {},
   "outputs": [
    {
     "name": "stdout",
     "output_type": "stream",
     "text": [
      "Pair that sums up to  4  is:  [(1, 3)]\n"
     ]
    }
   ],
   "source": [
    "X = [7, -2, 8, 2, 6, 4, -7, 2, 1, 3, -3]\n",
    "y = 4\n",
    "BinaryFun(x,y)"
   ]
  },
  {
   "cell_type": "code",
   "execution_count": 20,
   "metadata": {},
   "outputs": [
    {
     "name": "stdout",
     "output_type": "stream",
     "text": [
      "Pair that sums up to  14  is:  [(4, 10)]\n"
     ]
    }
   ],
   "source": [
    "X = [7, -2, 8, 2, 6, 4, -7, 2, 1, 3, -3]\n",
    "y = 14\n",
    "BinaryFun(x,y)"
   ]
  },
  {
   "cell_type": "code",
   "execution_count": 21,
   "metadata": {
    "scrolled": true
   },
   "outputs": [
    {
     "name": "stdout",
     "output_type": "stream",
     "text": [
      "Nothing was found!\n"
     ]
    }
   ],
   "source": [
    "X = [7, -2, 8, 2, 6, 4, -7, 2, 1, 3, -3]\n",
    "y = 100\n",
    "BinaryFun(x,y)"
   ]
  },
  {
   "cell_type": "code",
   "execution_count": 22,
   "metadata": {},
   "outputs": [
    {
     "name": "stdout",
     "output_type": "stream",
     "text": [
      "Pairs those sum up to  11  are:  [(1, 10), (2, 9)]\n"
     ]
    }
   ],
   "source": [
    "X = [9, -2, 3, 2, -7, 4, 1, 10, -3]\n",
    "y = 11\n",
    "BinaryFun(x,y)"
   ]
  },
  {
   "cell_type": "code",
   "execution_count": null,
   "metadata": {},
   "outputs": [],
   "source": []
  },
  {
   "cell_type": "code",
   "execution_count": null,
   "metadata": {},
   "outputs": [],
   "source": []
  },
  {
   "cell_type": "code",
   "execution_count": null,
   "metadata": {},
   "outputs": [],
   "source": []
  },
  {
   "cell_type": "markdown",
   "metadata": {},
   "source": []
  },
  {
   "cell_type": "code",
   "execution_count": null,
   "metadata": {},
   "outputs": [],
   "source": []
  }
 ],
 "metadata": {
  "kernelspec": {
   "display_name": "Python 3",
   "language": "python",
   "name": "python3"
  },
  "language_info": {
   "codemirror_mode": {
    "name": "ipython",
    "version": 3
   },
   "file_extension": ".py",
   "mimetype": "text/x-python",
   "name": "python",
   "nbconvert_exporter": "python",
   "pygments_lexer": "ipython3",
   "version": "3.7.6"
  }
 },
 "nbformat": 4,
 "nbformat_minor": 4
}
